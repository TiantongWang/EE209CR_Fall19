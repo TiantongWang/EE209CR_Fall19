{
 "cells": [
  {
   "cell_type": "code",
   "execution_count": 10,
   "metadata": {},
   "outputs": [],
   "source": [
    "# The grid is defined with lengh and width. Total number of states and actions are calculated. \n",
    "\n",
    "import numpy as np\n",
    "import matplotlib.pyplot as plt\n",
    "\n",
    "L = 8 # grid length constant\n",
    "W = 8 # grid width constant\n",
    "\n",
    "S = [] # initialize the state space\n",
    "\n",
    "# iterate all possible states\n",
    "for x in range(W):\n",
    "    for y in range(L):\n",
    "        for dirc in range(12):\n",
    "            S.append([x,y,dirc])\n",
    "            \n",
    "A = [] # initialize the action space\n",
    "\n",
    "# define possible individual actions\n",
    "SIT = 0\n",
    "FWD = 1\n",
    "BWD = -1\n",
    "NO_TURN = 0\n",
    "L_TURN = -1\n",
    "R_TURN = 1\n",
    "\n",
    "# list all possible combined actions\n",
    "for step in [SIT, FWD, BWD]:\n",
    "    if step != SIT:\n",
    "        for turn in [NO_TURN,L_TURN, R_TURN]:\n",
    "            A.append([step, turn])\n",
    "    else:\n",
    "        A.append([SIT, NO_TURN])"
   ]
  },
  {
   "cell_type": "code",
   "execution_count": 2,
   "metadata": {},
   "outputs": [],
   "source": [
    "# This function returns possible next states and their corresponding probabilities based on the current state,  \n",
    "# next action and the (constant) pre-rotate error probability. \n",
    "\n",
    "def next_state_distr(s, a, p_e):\n",
    "    x = s[0]\n",
    "    y = s[1]\n",
    "    dirc = s[2]\n",
    "    step = a[0]\n",
    "    turn = a[1]\n",
    "    S_next_distr = {}\n",
    "    s_index = 0\n",
    "    \n",
    "    if step != 0: \n",
    "        for turn_error in [NO_TURN,L_TURN, R_TURN]: # handle pre-rotate error\n",
    "            x_new = x\n",
    "            y_new = y\n",
    "            s_p_new = []\n",
    "            p_sa = 0\n",
    "            if turn_error == 0:\n",
    "                dirc_new = dirc\n",
    "                p_sa = 1-2*p_e\n",
    "            else:\n",
    "                dirc_new = dirc + turn_error\n",
    "                p_sa = p_e\n",
    "\n",
    "            dirc_new = dirc_new % 12 # translational movement according to the direction\n",
    "            if dirc_new in [11, 0, 1]:\n",
    "                y_new = y + step\n",
    "            elif dirc_new in [2, 3, 4]:\n",
    "                x_new = x + step\n",
    "            elif dirc_new in [5, 6, 7]:\n",
    "                y_new = y - step\n",
    "            else: \n",
    "                x_new = x - step\n",
    "            \n",
    "            dirc_new = (dirc_new + turn) % 12\n",
    "            if x_new < 0 or x_new >= W or y_new < 0 or y_new >= L: # handle attempts to move off grid\n",
    "                s_p_new = [x, y, dirc_new, p_sa]\n",
    "            else:\n",
    "                s_p_new = [x_new, y_new, dirc_new, p_sa] \n",
    "            \n",
    "            S_next_distr[s_index] = s_p_new\n",
    "            s_index += 1\n",
    "\n",
    "    else:\n",
    "        S_next_distr[s_index] = [x, y, dirc, 1]\n",
    "    return S_next_distr"
   ]
  },
  {
   "cell_type": "code",
   "execution_count": 8,
   "metadata": {},
   "outputs": [],
   "source": [
    "# This function returns the probability of the next state based on the current state, \n",
    "# next action and the (constant) pre-rotate error probability. \n",
    "\n",
    "def next_state_p(s, a, s_prime, p_e):\n",
    "    p_sa = 0\n",
    "    S_next_distr = next_state_distr(s, a, p_e)\n",
    "    \n",
    "    # iterate through all possible states in case there are repeated cases\n",
    "    for s_index in S_next_distr:\n",
    "        s_new = S_next_distr[s_index][0:3]\n",
    "        p_new = S_next_distr[s_index][3]\n",
    "        if s_new == s_prime:\n",
    "            p_sa += p_new \n",
    "    return p_sa"
   ]
  },
  {
   "cell_type": "code",
   "execution_count": 4,
   "metadata": {},
   "outputs": [],
   "source": [
    "# This function returns a state that is generated based on the current state, the action \n",
    "# and the (constant) pre-rotate probability.\n",
    "\n",
    "import random \n",
    "\n",
    "def next_state(s, a, p_e):\n",
    "    S_next_distr = next_state_distr(s,a,p_e)\n",
    "    seed = random.random()\n",
    "    prob = 0\n",
    "    \n",
    "    # campare random number with the aggregated probablity of potential next states\n",
    "    for s_index in S_next_distr:\n",
    "        prob += S_next_distr[s_index][3]\n",
    "        if seed < prob:\n",
    "            state = S_next_distr[s_index][0:3]\n",
    "            return state\n",
    "    return None"
   ]
  },
  {
   "cell_type": "code",
   "execution_count": 9,
   "metadata": {},
   "outputs": [],
   "source": [
    "# This function returns the reward given the current state.\n",
    "\n",
    "import numpy\n",
    "\n",
    "def reward(s):\n",
    "    x = s[0]\n",
    "    y = s[1]\n",
    "    \n",
    "    # define rewards all over the map \n",
    "    R = numpy.zeros((W, L))\n",
    "    # define lane markers\n",
    "    for i in [4, 5, 6]:\n",
    "        R[3][i] = -10\n",
    "    # define walls\n",
    "    for i in range(W):\n",
    "        for j in range(L):\n",
    "            if i == 0 or i == 7 or j == 0 or j == 7:\n",
    "                R[i][j] = -100\n",
    "    # define goal sqaure\n",
    "    R[5][6] = 1\n",
    "    \n",
    "    return R[x][y]"
   ]
  },
  {
   "cell_type": "code",
   "execution_count": 6,
   "metadata": {},
   "outputs": [
    {
     "name": "stdout",
     "output_type": "stream",
     "text": [
      "1(a). For a grid of 8 x 8, there are 768 states.\n"
     ]
    }
   ],
   "source": [
    "print('1(a). For a grid of %d x %d, there are %d states.' % (L, W, len(S)))"
   ]
  },
  {
   "cell_type": "code",
   "execution_count": 7,
   "metadata": {},
   "outputs": [
    {
     "name": "stdout",
     "output_type": "stream",
     "text": [
      "1(b). The robot can choose from 7 actions.\n"
     ]
    }
   ],
   "source": [
    "print('1(b). The robot can choose from %d actions.' % len(A))"
   ]
  },
  {
   "cell_type": "code",
   "execution_count": null,
   "metadata": {},
   "outputs": [],
   "source": [
    "print(next_state_p([1,1,0], [1,1], [1,2,0], 0.25))"
   ]
  },
  {
   "cell_type": "code",
   "execution_count": null,
   "metadata": {},
   "outputs": [],
   "source": [
    "result = next_state([1,1,0], [1,1], 0.25)"
   ]
  },
  {
   "cell_type": "code",
   "execution_count": null,
   "metadata": {},
   "outputs": [],
   "source": [
    "for i in range(W):\n",
    "    for j in range(L):\n",
    "        print(reward([i,j,0]))"
   ]
  },
  {
   "cell_type": "code",
   "execution_count": null,
   "metadata": {},
   "outputs": [],
   "source": []
  }
 ],
 "metadata": {
  "kernelspec": {
   "display_name": "Python 3",
   "language": "python",
   "name": "python3"
  },
  "language_info": {
   "codemirror_mode": {
    "name": "ipython",
    "version": 3
   },
   "file_extension": ".py",
   "mimetype": "text/x-python",
   "name": "python",
   "nbconvert_exporter": "python",
   "pygments_lexer": "ipython3",
   "version": "3.7.1"
  }
 },
 "nbformat": 4,
 "nbformat_minor": 2
}
